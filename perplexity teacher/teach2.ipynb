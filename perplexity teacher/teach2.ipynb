{
 "cells": [
  {
   "cell_type": "code",
   "execution_count": 1,
   "metadata": {},
   "outputs": [
    {
     "name": "stderr",
     "output_type": "stream",
     "text": [
      "2023-07-29 17:21:59,902:INFO - NumExpr defaulting to 8 threads.\n",
      "/Users/yecao/anaconda3/envs/opennice_infra/lib/python3.10/site-packages/deeplake/util/check_latest_version.py:32: UserWarning: A newer version of deeplake (3.6.14) is available. It's recommended that you update to the latest version using `pip install -U deeplake`.\n",
      "  warnings.warn(\n"
     ]
    }
   ],
   "source": [
    "import os\n",
    "from Perplexity import Perplexity\n",
    "from supabase import create_client, Client\n",
    "from langchain.embeddings.openai import OpenAIEmbeddings\n",
    "from langchain.text_splitter import MarkdownHeaderTextSplitter\n",
    "from langchain.vectorstores import SupabaseVectorStore\n",
    "from langchain.document_loaders import TextLoader\n",
    "from langchain.document_loaders.csv_loader import CSVLoader\n",
    "from dotenv import load_dotenv\n",
    "\n",
    "load_dotenv()\n",
    "\n",
    "HOSTNAME = os.environ.get(\"HOSTNAME\")\n",
    "PORT = os.environ.get(\"PORT\")\n",
    "PASSWORD = os.environ.get(\"PASSWORD\")\n",
    "OPENAI_API_KEY = os.environ.get(\"OPENAI_API_KEY\")\n",
    "SUPABASE_URL = os.environ.get(\"SUPABASE_URL\")\n",
    "SUPABASE_SERVICE_KEY = os.environ.get(\"SUPABASE_SERVICE_KEY\")"
   ]
  },
  {
   "cell_type": "code",
   "execution_count": 11,
   "metadata": {},
   "outputs": [],
   "source": [
    "import redis\n",
    "import json\n",
    "import pandas as pd\n",
    "\n",
    "def get_all_failed_queries():\n",
    "    def connect_reddis():\n",
    "        return redis.Redis(\n",
    "            host=HOSTNAME,\n",
    "            port=PORT, \n",
    "            password=PASSWORD,\n",
    "            ssl=True,  # Enable SSL/TLS encryption for the connection\n",
    "            decode_responses=True  # Convert responses to strings (optional but useful for human-readable output)\n",
    "        )\n",
    "\n",
    "    # Connect KV db\n",
    "    r = connect_reddis()\n",
    "\n",
    "    # Get all chat keys by pattern\n",
    "    all_keys = r.keys('chat:*')\n",
    "\n",
    "    # Get all failed queries\n",
    "    all_fail_query = []\n",
    "\n",
    "    for hash_key in all_keys:\n",
    "        hash_data = r.hgetall(hash_key)\n",
    "\n",
    "        messages = json.loads(hash_data['messages'])\n",
    "        for idx in range(len(messages)):\n",
    "            message = messages[idx]\n",
    "            role = message['role']\n",
    "            content = message['content']\n",
    "            if role == 'assistant' and 'sorry' in content.lower():\n",
    "                if idx - 1 >= 0:\n",
    "                    prev_message = messages[idx - 1]\n",
    "                    if prev_message['role'] == 'user':\n",
    "                        all_fail_query.append(prev_message['content'])\n",
    "    \n",
    "    return all_fail_query\n",
    "\n",
    "def get_unsolved_questions(all_fail_query):\n",
    "    unsolved_questions = []\n",
    "\n",
    "    df = pd.read_csv('./faq.csv')\n",
    "    # Check if the 'question' column contains the specific question\n",
    "    for query in all_fail_query:\n",
    "        if not any(df['question'].str.contains(query, case=False)):\n",
    "            unsolved_questions.append(query)\n",
    "    \n",
    "    return unsolved_questions"
   ]
  },
  {
   "cell_type": "code",
   "execution_count": 12,
   "metadata": {},
   "outputs": [],
   "source": [
    "all_fail_query = get_all_failed_queries()"
   ]
  },
  {
   "cell_type": "code",
   "execution_count": 16,
   "metadata": {},
   "outputs": [
    {
     "data": {
      "text/plain": [
       "['hi', 'Is there any fortune 500 alumni?']"
      ]
     },
     "execution_count": 16,
     "metadata": {},
     "output_type": "execute_result"
    }
   ],
   "source": [
    "all_fail_query"
   ]
  },
  {
   "cell_type": "code",
   "execution_count": 24,
   "metadata": {},
   "outputs": [
    {
     "data": {
      "text/plain": [
       "['hi']"
      ]
     },
     "execution_count": 24,
     "metadata": {},
     "output_type": "execute_result"
    }
   ],
   "source": [
    "get_unsolved_questions(all_fail_query)"
   ]
  },
  {
   "cell_type": "code",
   "execution_count": 6,
   "metadata": {},
   "outputs": [],
   "source": [
    "import textwrap\n",
    "\n",
    "def perplexity_solve_question(question):\n",
    "    try:\n",
    "        if \"rice\" not in question.lower():\n",
    "            question = 'At Rice university: ' + question\n",
    "\n",
    "        perplexity = Perplexity()\n",
    "        response = perplexity.search(question)\n",
    "\n",
    "        answer = response.json_answer_text['answer']\n",
    "        citations = '\\n\\ncitations: \\n'\n",
    "        for web_result_idx in range(len(response.json_answer_text['web_results'])):\n",
    "            web_result = response.json_answer_text['web_results'][web_result_idx]\n",
    "            url = web_result['url']\n",
    "            citations += f'{[web_result_idx + 1]} {url} \\n'\n",
    "\n",
    "        answer += citations\n",
    "\n",
    "        answer = textwrap.dedent(answer).strip().replace('\\n', ' ')\n",
    "\n",
    "        return question, answer\n",
    "    except Exception as e:\n",
    "        print(f\"An error occurred while processing the question: {question}\")\n",
    "        print(f\"Error message: {str(e)}\")\n",
    "        return None"
   ]
  },
  {
   "cell_type": "code",
   "execution_count": 7,
   "metadata": {},
   "outputs": [
    {
     "name": "stderr",
     "output_type": "stream",
     "text": [
      "2023-07-29 17:37:43,818:INFO - Websocket connected\n"
     ]
    }
   ],
   "source": [
    "question, answer = perplexity_solve_question('Is there any fortune 500 alumni?')"
   ]
  },
  {
   "cell_type": "code",
   "execution_count": 8,
   "metadata": {},
   "outputs": [
    {
     "data": {
      "text/plain": [
       "\"Yes, Rice University has alumni who have gone on to become CEOs and founders of Fortune 500 companies[3]. Some of the university's prominent alumni include individuals who have achieved success in business and have been associated with Fortune 500 companies[2][3][5]. While specific names of Fortune 500 alumni from Rice University are not mentioned in the search results, it is clear that the university has produced graduates who have gone on to achieve significant success in the business world.  citations:  [1] https://news.rice.edu/news/2022/rice-u-alums-share-fortune-500-experience-during-pioneers-innovation-chat  [2] https://www.chron.com/life/slideshow/Famous-Rice-University-alumni-202810.php  [3] https://en.wikipedia.org/wiki/Rice_University  [4] https://www.linkedin.com/posts/riceece_meet-the-rice-ece-alumni-who-built-a-fortune-activity-6982716907468582912-CNFl  [5] https://ischoolconnect.com/blog/rice-university-courses-campus-and-more/  [6] https://academic-accelerator.com/encyclopedia/rice-university\""
      ]
     },
     "execution_count": 8,
     "metadata": {},
     "output_type": "execute_result"
    }
   ],
   "source": [
    "answer"
   ]
  },
  {
   "cell_type": "code",
   "execution_count": null,
   "metadata": {},
   "outputs": [],
   "source": [
    "# Save the newly taught query into a local file to prevent teaching again nextime.\n",
    "saved_query = set()"
   ]
  }
 ],
 "metadata": {
  "kernelspec": {
   "display_name": "Python 3",
   "language": "python",
   "name": "python3"
  },
  "language_info": {
   "codemirror_mode": {
    "name": "ipython",
    "version": 3
   },
   "file_extension": ".py",
   "mimetype": "text/x-python",
   "name": "python",
   "nbconvert_exporter": "python",
   "pygments_lexer": "ipython3",
   "version": "3.10.9"
  },
  "orig_nbformat": 4
 },
 "nbformat": 4,
 "nbformat_minor": 2
}
