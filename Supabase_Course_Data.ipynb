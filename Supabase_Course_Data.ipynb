{
  "cells": [
    {
      "cell_type": "code",
      "execution_count": 6,
      "metadata": {
        "id": "rQI7RnxNSgTY"
      },
      "outputs": [],
      "source": [
        "!pip install supabase\n",
        "\n",
        "import os\n",
        "from dotenv import load_dotenv\n",
        "from supabase import create_client, Client\n",
        "load_dotenv()\n",
        "\n",
        "SUPABASE_URL = os.environ.get(\"SUPABASE_URL\")\n",
        "SUPABASE_SERVICE_KEY = os.environ.get(\"SUPABASE_SERVICE_KEY\")\n",
        "\n",
        "client: Client = create_client(SUPABASE_URL, SUPABASE_SERVICE_KEY)\n",
        "\n",
        "from IPython.display import clear_output\n",
        "clear_output()"
      ]
    },
    {
      "cell_type": "code",
      "execution_count": null,
      "metadata": {
        "id": "tWWn6M3EgbKg"
      },
      "outputs": [],
      "source": [
        "import json\n",
        "\n",
        "with open(\"/content/evalDB.all_course_comments.json\") as json_file:\n",
        "    comments = json.load(json_file)\n",
        "\n",
        "with open(\"/content/evalDB.all_course_catalog.json\") as json_file:\n",
        "    courses = json.load(json_file)\n",
        "\n",
        "with open(\"/content/evalDB.all_course_scores.json\") as json_file:\n",
        "    scores = json.load(json_file)\n",
        "\n",
        "cFieldNums = set()\n",
        "\n",
        "for course in courses:\n",
        "    cFieldNums.add(f'{course[\"cField\"]} {course[\"cNum\"]}')"
      ]
    },
    {
      "cell_type": "code",
      "execution_count": null,
      "metadata": {
        "id": "HxElX5pjtcv5"
      },
      "outputs": [],
      "source": [
        "for record in comments:\n",
        "    if '_id' in record:\n",
        "      del record[\"_id\"]\n",
        "\n",
        "for record in courses:\n",
        "    if '_id' in record:\n",
        "      del record[\"_id\"]\n",
        "\n",
        "for record in scores:\n",
        "    if '_id' in record:\n",
        "      del record[\"_id\"]"
      ]
    },
    {
      "cell_type": "code",
      "execution_count": null,
      "metadata": {
        "id": "r5OYBNV9vMOa"
      },
      "outputs": [],
      "source": [
        "for course in courses:\n",
        "    if course['distribution'] == '':\n",
        "      course['distribution'] = 'N/A'\n",
        "    if course['description'] == None:\n",
        "      course['description'] = 'N/A'\n",
        "for course in courses:\n",
        "    assert(course['distribution'] != '' and course['description'] != None)"
      ]
    },
    {
      "cell_type": "code",
      "execution_count": null,
      "metadata": {
        "colab": {
          "base_uri": "https://localhost:8080/"
        },
        "id": "T8D2jzgYuWr2",
        "outputId": "cae53c67-aee2-49e8-aec9-0d975ac60f1d"
      },
      "outputs": [
        {
          "name": "stdout",
          "output_type": "stream",
          "text": [
            "0 1000\n",
            "1000 2000\n",
            "2000 3000\n",
            "3000 4000\n",
            "4000 5000\n",
            "5000 6000\n",
            "6000 6101\n"
          ]
        }
      ],
      "source": [
        "import time\n",
        "\n",
        "for i in range(0, len(courses), 1000):\n",
        "  print(i, min(i+1000, len(courses)))\n",
        "  client.table(\"CourseCatalog\").insert(courses[i:min(i+1000, len(courses))]).execute()\n",
        "  time.sleep(3)"
      ]
    },
    {
      "cell_type": "code",
      "execution_count": null,
      "metadata": {
        "colab": {
          "base_uri": "https://localhost:8080/"
        },
        "id": "OBrw8P22nXzx",
        "outputId": "d4717bc3-7424-4ff5-8bc1-c8ae150f50da"
      },
      "outputs": [
        {
          "data": {
            "text/plain": [
              "58185"
            ]
          },
          "execution_count": 101,
          "metadata": {},
          "output_type": "execute_result"
        }
      ],
      "source": [
        "sub_comments = []\n",
        "\n",
        "for record in comments:\n",
        "    if f'{record[\"cField\"]} {record[\"cNum\"]}' in cFieldNums:\n",
        "      sub_comments.append(record)\n",
        "\n",
        "len(sub_comments)"
      ]
    },
    {
      "cell_type": "code",
      "execution_count": null,
      "metadata": {
        "colab": {
          "base_uri": "https://localhost:8080/"
        },
        "id": "CUSfemqG01PR",
        "outputId": "b28d3ab9-bea2-4aba-f4bb-1e41876a05a2"
      },
      "outputs": [
        {
          "data": {
            "text/plain": [
              "58185"
            ]
          },
          "execution_count": 123,
          "metadata": {},
          "output_type": "execute_result"
        }
      ],
      "source": [
        "sub_scores = []\n",
        "\n",
        "for record in scores:\n",
        "    if f'{record[\"cField\"]} {record[\"cNum\"]}' in cFieldNums:\n",
        "      sub_scores.append(record)\n",
        "\n",
        "len(sub_scores)"
      ]
    },
    {
      "cell_type": "code",
      "execution_count": null,
      "metadata": {
        "id": "htLM7jD6xEbz"
      },
      "outputs": [],
      "source": [
        "import time\n",
        "\n",
        "for i in range(0, len(sub_comments), 1000):\n",
        "  print(i, min(i+1000, len(sub_comments)))\n",
        "  client.table(\"CourseComments\").insert(sub_comments[i:min(i+1000, len(sub_comments))]).execute()\n",
        "  time.sleep(3)"
      ]
    },
    {
      "cell_type": "code",
      "execution_count": null,
      "metadata": {
        "id": "gzM-p4lL0xb8"
      },
      "outputs": [],
      "source": [
        "import time\n",
        "\n",
        "for i in range(0, len(sub_scores), 1000):\n",
        "  print(i, min(i+1000, len(sub_scores)))\n",
        "  client.table(\"CourseScores\").insert(sub_scores[i:min(i+1000, len(sub_scores))]).execute()\n",
        "  time.sleep(3)"
      ]
    }
  ],
  "metadata": {
    "colab": {
      "provenance": []
    },
    "kernelspec": {
      "display_name": "Python 3",
      "name": "python3"
    },
    "language_info": {
      "codemirror_mode": {
        "name": "ipython",
        "version": 3
      },
      "file_extension": ".py",
      "mimetype": "text/x-python",
      "name": "python",
      "nbconvert_exporter": "python",
      "pygments_lexer": "ipython3",
      "version": "3.10.9"
    }
  },
  "nbformat": 4,
  "nbformat_minor": 0
}
