{
 "cells": [
  {
   "cell_type": "code",
   "execution_count": 1,
   "metadata": {},
   "outputs": [],
   "source": [
    "from IPython.display import clear_output\n",
    "\n",
    "!pip install apify-client\n",
    "!pip install spacy\n",
    "!pip install python-dateutil\n",
    "!python -m spacy download en_core_web_sm\n",
    "\n",
    "clear_output()"
   ]
  },
  {
   "cell_type": "code",
   "execution_count": 2,
   "metadata": {},
   "outputs": [],
   "source": [
    "import os\n",
    "from dotenv import load_dotenv\n",
    "\n",
    "load_dotenv()\n",
    "\n",
    "os.environ[\"APIFY_API_TOKEN\"] = os.getenv(\"APIFY_API_TOKEN\")"
   ]
  },
  {
   "cell_type": "code",
   "execution_count": 3,
   "metadata": {},
   "outputs": [],
   "source": [
    "club_ins_url = [\n",
    "    'https://www.instagram.com/rice.csa/',\n",
    "    'https://www.instagram.com/tedxriceu/',\n",
    "    'https://www.instagram.com/riceapps/',\n",
    "    'https://www.instagram.com/rice_boxing/',\n",
    "    'https://www.instagram.com/astr.mag/',\n",
    "    'https://www.instagram.com/basmatibeats/',\n",
    "    'https://www.instagram.com/basyk.rice/?hl=en',\n",
    "    'https://www.instagram.com/chimacappella/',\n",
    "    'https://www.instagram.com/ricecraftandcare/',\n",
    "    'https://www.instagram.com/arthistoryrice/',\n",
    "    'https://www.instagram.com/ktruriceradio/',\n",
    "    'https://www.instagram.com/losbuhosdelnorte/',\n",
    "    'https://www.instagram.com/ricelowkeys/',\n",
    "    'https://www.instagram.com/rice_mobstagram/?hl=en',\n",
    "    'https://www.instagram.com/mariachilunallena/',\n",
    "    'https://www.instagram.com/moodystudentcollaborative/',\n",
    "    'https://www.instagram.com/ricenocturnal/',\n",
    "    'https://www.instagram.com/paint4strength/',\n",
    "    'https://www.instagram.com/ricerawphotography/',\n",
    "    'https://www.instagram.com/riceartclub/?hl=en',\n",
    "    'https://www.instagram.com/riceballroom/',\n",
    "    'https://www.instagram.com/ricebhangra/?hl=en'\n",
    "]"
   ]
  },
  {
   "cell_type": "code",
   "execution_count": 4,
   "metadata": {},
   "outputs": [],
   "source": [
    "from apify_client import ApifyClient\n",
    "\n",
    "# Initialize the ApifyClient with API token\n",
    "client = ApifyClient(os.environ[\"APIFY_API_TOKEN\"])\n",
    "\n",
    "# Prepare the Actor input\n",
    "run_input = {\n",
    "    \"directUrls\": club_ins_url,\n",
    "    \"resultsLimit\": 1,\n",
    "    \"resultsType\": \"posts\",\n",
    "    \"searchLimit\": 1,\n",
    "    \"searchType\": \"hashtag\"\n",
    "}\n",
    "\n",
    "# Run the Actor and wait for it to finish\n",
    "run = client.actor(\"shu8hvrXbJbY3Eb9W\").call(run_input=run_input)"
   ]
  },
  {
   "cell_type": "code",
   "execution_count": 5,
   "metadata": {},
   "outputs": [],
   "source": [
    "import spacy\n",
    "from dateutil.parser import parse\n",
    "\n",
    "# Load the spaCy model\n",
    "nlp = spacy.load(\"en_core_web_sm\")"
   ]
  },
  {
   "cell_type": "code",
   "execution_count": 9,
   "metadata": {},
   "outputs": [
    {
     "name": "stdout",
     "output_type": "stream",
     "text": [
      "content is: This Friday, cool off with CSA and @ricevsa members at the Rec Center Pool! We’ll have free PIZZA, pool games, and lots of fun! 🏊‍♀️🩱🤿 Join us from 4-6PM on Friday, September 1. \n",
      "\n",
      "We’ll also be at the Club Fair the same day from 2:30-4:30 in the RMC. Come out to get more info about CSA!\n",
      "———\n",
      "#chinesestudentassociation #culturalclub #csa #chinesestudentsinamerica #chineseamerican #asianamerican #riceuniversity #rice #houston #houstontx @riceuniversity\n",
      "\n",
      "meta_data is {'date': '2023-09-01', 'source': 'https://www.instagram.com/p/CwiupgeOIGm/'}\n"
     ]
    }
   ],
   "source": [
    "# Fetch and print Actor results from the run's dataset (if there are any)\n",
    "for item in client.dataset(run[\"defaultDatasetId\"]).iterate_items():\n",
    "    caption = item['caption']\n",
    "    url = item['url']\n",
    "\n",
    "    doc = nlp(caption)\n",
    "    dates = [ent.text for ent in doc.ents if ent.label_ == \"DATE\"]\n",
    "    \n",
    "    if len(dates) > 0:\n",
    "        date = max(dates, key=len)\n",
    "\n",
    "        # Parse extracted date strings with dateutil to get datetime objects\n",
    "        parsed_date = parse(date, fuzzy=True)\n",
    "\n",
    "        if parsed_date:\n",
    "            meta_data = {'date': parsed_date.strftime(\"%Y-%m-%d\"), 'source': url}\n",
    "            content = caption\n",
    "\n",
    "            print(f'content is: {content}\\n')\n",
    "            print(f'meta_data is {meta_data}')"
   ]
  }
 ],
 "metadata": {
  "kernelspec": {
   "display_name": "ser_mng",
   "language": "python",
   "name": "python3"
  },
  "language_info": {
   "codemirror_mode": {
    "name": "ipython",
    "version": 3
   },
   "file_extension": ".py",
   "mimetype": "text/x-python",
   "name": "python",
   "nbconvert_exporter": "python",
   "pygments_lexer": "ipython3",
   "version": "3.10.12"
  },
  "orig_nbformat": 4
 },
 "nbformat": 4,
 "nbformat_minor": 2
}
